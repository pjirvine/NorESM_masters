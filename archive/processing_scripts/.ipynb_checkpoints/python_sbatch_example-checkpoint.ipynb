{
 "cells": [
  {
   "cell_type": "markdown",
   "metadata": {},
   "source": [
    "# This notebook illustrates how to produce an sbatch script within python that will run a python script."
   ]
  },
  {
   "cell_type": "code",
   "execution_count": 11,
   "metadata": {
    "collapsed": true
   },
   "outputs": [],
   "source": [
    "def sbatch_maker(script_command, sbatch_filename, more_commands='', JOB='Test', PART='general', NODES='1', CORES='1', MEM='100', TIME='0-00:10'):\n",
    "    \"\"\"\n",
    "This function makes an SBATCH script called \"sbatch_filename\" which runs the script given in script_command.\n",
    "The properties of the job will be set by the key words.\n",
    "REMEMBER - This sbatch job will inherit\n",
    "\"\"\"\n",
    "    \n",
    "    slurm_template = \"\"\"#!/bin/bash\n",
    "#\n",
    "#SBATCH -J {JOB}\n",
    "#SBATCH -p {PART}                # partition (queue)\n",
    "#SBATCH -N {NODES}                      # number of nodes\n",
    "#SBATCH -n {CORES}                      # number of cores\n",
    "#SBATCH --mem={MEM}                 # memory pool for all cores\n",
    "#SBATCH -t {TIME}                 # time (D-HH:MM)\n",
    "#SBATCH -o /n/home03/pjirvine/slurm/out/SLURM.%j.%N.out        # STDOUT\n",
    "#SBATCH -e /n/home03/pjirvine/slurm/err/SLURM.%j.%N.err        # STDERR\n",
    "#SBATCH --mail-type=ALL\n",
    "#                               Type of email notification- BEGIN,END,FAIL,ALL\n",
    "#SBATCH --mail-user=p.j.irvine@gmail.com\n",
    "#                               Email to which notifications will be sent\n",
    "\n",
    "{MORE_COMMANDS}\n",
    "{SCRIPT}\n",
    "\n",
    "############################## slurm ends ##############################\n",
    "\"\"\"\n",
    "\n",
    "    # Fill in the slurm template using kwargs\n",
    "    sbatch_text = slurm_template.format(SCRIPT=script_command, MORE_COMMANDS=more_commands, JOB=JOB, PART=PART, NODES=NODES, CORES=CORES, MEM=MEM, TIME=TIME)\n",
    "\n",
    "    # Write to file given by sbatch_filename\n",
    "    with open(sbatch_filename, \"w\") as text_file:\n",
    "        text_file.write(sbatch_text)\n",
    "    \n",
    "    # Return contents of sbatch file\n",
    "    return sbatch_text\n",
    "\n",
    "#def sbatch_maker ENDS"
   ]
  },
  {
   "cell_type": "markdown",
   "metadata": {},
   "source": [
    "# Example showing sbatch maker in use\n",
    "This will run the python script \"python_test.py\" that we will write below"
   ]
  },
  {
   "cell_type": "code",
   "execution_count": 17,
   "metadata": {
    "collapsed": true
   },
   "outputs": [],
   "source": [
    "sbatch_text = sbatch_maker('python python_test.py', 'py_test.sbatch', MEM='1', TIME='0-00:01')"
   ]
  },
  {
   "cell_type": "markdown",
   "metadata": {},
   "source": [
    "This writes out a simple python script. This python script just creates a file and writes to it."
   ]
  },
  {
   "cell_type": "code",
   "execution_count": 16,
   "metadata": {},
   "outputs": [
    {
     "name": "stdout",
     "output_type": "stream",
     "text": [
      "Writing python_test.py\n"
     ]
    }
   ],
   "source": [
    "%%writefile python_test.py\n",
    "with open('python_ran.txt', \"w\") as text_file:\n",
    "    text_file.write('it worked')"
   ]
  },
  {
   "cell_type": "markdown",
   "metadata": {},
   "source": [
    "This executes a shell command to run the sbatch script, submitting the job that will run the python script."
   ]
  },
  {
   "cell_type": "code",
   "execution_count": 18,
   "metadata": {},
   "outputs": [
    {
     "name": "stdout",
     "output_type": "stream",
     "text": [
      "Submitted batch job 17112004\r\n"
     ]
    }
   ],
   "source": [
    "! sbatch py_test.sbatch"
   ]
  },
  {
   "cell_type": "code",
   "execution_count": null,
   "metadata": {
    "collapsed": true
   },
   "outputs": [],
   "source": []
  }
 ],
 "metadata": {
  "kernelspec": {
   "display_name": "Python 2",
   "language": "python",
   "name": "python2"
  },
  "language_info": {
   "codemirror_mode": {
    "name": "ipython",
    "version": 2
   },
   "file_extension": ".py",
   "mimetype": "text/x-python",
   "name": "python",
   "nbconvert_exporter": "python",
   "pygments_lexer": "ipython2",
   "version": "2.7.14"
  }
 },
 "nbformat": 4,
 "nbformat_minor": 2
}
