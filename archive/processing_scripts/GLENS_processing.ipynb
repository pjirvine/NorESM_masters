{
 "cells": [
  {
   "cell_type": "code",
   "execution_count": 1,
   "metadata": {},
   "outputs": [
    {
     "ename": "ImportError",
     "evalue": "No module named cdo",
     "output_type": "error",
     "traceback": [
      "\u001b[0;31m\u001b[0m",
      "\u001b[0;31mImportError\u001b[0mTraceback (most recent call last)",
      "\u001b[0;32m<ipython-input-1-f4777331d0c1>\u001b[0m in \u001b[0;36m<module>\u001b[0;34m()\u001b[0m\n\u001b[0;32m----> 1\u001b[0;31m \u001b[0;32mfrom\u001b[0m \u001b[0mcdo\u001b[0m \u001b[0;32mimport\u001b[0m \u001b[0;34m*\u001b[0m\u001b[0;34m\u001b[0m\u001b[0m\n\u001b[0m\u001b[1;32m      2\u001b[0m \u001b[0mcdo\u001b[0m \u001b[0;34m=\u001b[0m \u001b[0mCdo\u001b[0m\u001b[0;34m(\u001b[0m\u001b[0;34m)\u001b[0m\u001b[0;34m\u001b[0m\u001b[0m\n\u001b[1;32m      3\u001b[0m \u001b[0;32mimport\u001b[0m \u001b[0mmy_shell_tools\u001b[0m\u001b[0;34m\u001b[0m\u001b[0m\n\u001b[1;32m      4\u001b[0m \u001b[0;32mimport\u001b[0m \u001b[0mos\u001b[0m\u001b[0;34m\u001b[0m\u001b[0m\n\u001b[1;32m      5\u001b[0m \u001b[0;32mimport\u001b[0m \u001b[0mos\u001b[0m\u001b[0;34m.\u001b[0m\u001b[0mpath\u001b[0m\u001b[0;34m\u001b[0m\u001b[0m\n",
      "\u001b[0;31mImportError\u001b[0m: No module named cdo"
     ]
    }
   ],
   "source": [
    "from cdo import *\n",
    "cdo = Cdo()\n",
    "import my_shell_tools\n",
    "import os\n",
    "import os.path\n",
    "import CMIP5_functions as cmip5\n",
    "\n",
    "# import functions from file\n",
    "from GLENS_functions import *"
   ]
  },
  {
   "cell_type": "code",
   "execution_count": null,
   "metadata": {
    "collapsed": true
   },
   "outputs": [],
   "source": [
    "%load_ext autoreload\n",
    "%autoreload 2"
   ]
  },
  {
   "cell_type": "markdown",
   "metadata": {},
   "source": [
    "# Define Variables"
   ]
  },
  {
   "cell_type": "code",
   "execution_count": 23,
   "metadata": {
    "collapsed": true
   },
   "outputs": [],
   "source": [
    "# model_version = \"b.e15.B5505C5WCCML45BGCR\"\n",
    "# resolution = \"f09_g16\" # ~1 degree resolution\n",
    "exp = \"feedback\" # or \"control\"\n",
    "run = \"001\"\n",
    "comp = \"cam\"\n",
    "hist_file = \"h0\" # or \"h3\" ?\n",
    "variable = \"TREFHT\" # or others\n",
    "dates = \"201001-203012\"\n",
    "\n",
    "# file_format = \"{model_version}.{resolution}.{exp}.{run}.{comp}.{hist_file}.{variable}.{dates}.nc\"\n",
    "\n",
    "short_format = \"{exp}.{run}.{comp}.{hist_file}.{variable}.{dates}.nc\"\n",
    "\n",
    "feedback_runs = [str(IDX+1).zfill(3) for IDX in xrange(21)]\n",
    "control_runs = ['001','002','003','021']\n",
    "# control short runs are all between 001-021 not included in control_runs\n",
    "control_short_runs = [x for x in feedback_runs if x not in control_runs]\n",
    "\n",
    "monthly_variables = ['LHFLX','PRECC','PRECL','PRECTMX','TREFHT','TREFHTMX']\n",
    "daily_variables = ['LHFLX','PRECT','TREFHT','TREFHTMX']\n",
    "\n",
    "feedback_dates = '202001-209912'\n",
    "control_dates = '201001-209912'\n",
    "\n",
    "raw_monthly_dir = \"/n/home03/pjirvine/keithfs1_pji/GLENS/raw_monthly_data/\"\n",
    "temp_dir = \"/n/home03/pjirvine/keithfs1_pji/GLENS/temp_merged/\"\n",
    "ex_nc = \"feedback.021.cam.h0.TREFHTMX.209001-209912.nc\"\n"
   ]
  },
  {
   "cell_type": "code",
   "execution_count": 108,
   "metadata": {},
   "outputs": [
    {
     "name": "stdout",
     "output_type": "stream",
     "text": [
      "Submitted batch job 17314466\n",
      "\n"
     ]
    }
   ],
   "source": [
    "\"\"\"\n",
    "sbatch maker\n",
    "\"\"\"\n",
    "script_name = 'ann_mean_std'\n",
    "sbatch_maker('python '+script_name+'.py', script_name+'.sbatch', more_commands='', JOB=script_name, PART='general', NODES='1', CORES='1', MEM='3000', TIME='0-00:30')\n",
    "# SUBMIT WITH THIS LINE\n",
    "print linux_out('sbatch '+script_name+'.sbatch')"
   ]
  },
  {
   "cell_type": "markdown",
   "metadata": {},
   "source": [
    "# Daily data merging - needed?"
   ]
  },
  {
   "cell_type": "code",
   "execution_count": 37,
   "metadata": {},
   "outputs": [
    {
     "name": "stdout",
     "output_type": "stream",
     "text": [
      "feedback.021.cam.h3.TREFHTMX. [u'2020 2021 2022 2023 2024 2025 2026 2027 2028 2029 2030 2031 2032 2033 2034 2035 2036 2037 2038 2039 2040 2041 2042 2043 2044 2045 2046 2047 2048 2049 2050 2051 2052 2053 2054 2055 2056 2057 2058 2059 2060 2061 2062 2063 2064 2065 2066 2067 2068 2069 2070 2071 2072 2073 2074 2075 2076 2077 2078 2079 2080 2081 2082 2083 2084 2085 2086 2087 2088 2089 2090 2091 2092 2093 2094 2095 2096 2097 2098 2099 2100']\n",
      "CPU times: user 7.83 ms, sys: 7.05 ms, total: 14.9 ms\n",
      "Wall time: 3min 27s\n"
     ]
    }
   ],
   "source": [
    "%%time\n",
    "\n",
    "\"\"\"\n",
    "TEST DAILY MERGE SCRIPT - allow 4 minutes for set of files\n",
    "\"\"\"\n",
    "\n",
    "\"\"\"\n",
    "Define variables which specify which files to process\n",
    "\"\"\"\n",
    "\n",
    "in_dir = '/n/home03/pjirvine/keithfs1_pji/GLENS/raw_daily_data/'\n",
    "out_dir = '/n/home03/pjirvine/keithfs1_pji/GLENS/'\n",
    "\n",
    "runs = [str(IDX+1).zfill(3) for IDX in xrange(21)]\n",
    "variables = ['LHFLX','PRECC','PRECL','PRECTMX','TREFHT','TREFHTMX']\n",
    "\n",
    "run_name = 'feedback.021.cam.h3.TREFHTMX.'\n",
    "append = '202001-209912.nc'\n",
    "\n",
    "\"\"\"\n",
    "Main loop\n",
    "\"\"\"\n",
    "\n",
    "# for var in variables:\n",
    "#     for run in runs:\n",
    "        \n",
    "#         run_name = seach_format.format(run=run, var=var)\n",
    "years_out = merge_years(run_name, append, in_dir, out_dir)\n",
    "\n",
    "print run_name, years_out"
   ]
  },
  {
   "cell_type": "markdown",
   "metadata": {},
   "source": [
    "# OLD NorESM processing script"
   ]
  },
  {
   "cell_type": "code",
   "execution_count": 34,
   "metadata": {
    "collapsed": true
   },
   "outputs": [],
   "source": [
    "\"\"\"\n",
    "This script does the basic monthly processing for the NorESM1-M data \n",
    "\"\"\"\n",
    "\n",
    "data_dir = '/net/keithfs1/srv/export/keithfs1/share_root/pjirvine/NorESM/'\n",
    "\n",
    "exp_list = ['rcp45', 'rcp85', 'G6cct',  'G6ss',  'G6sulf']\n",
    "var_list = ['evspsbl', 'pr', 'tas']\n",
    "run_list = ['r1i1p1','r2i1p1','r3i1p1']\n",
    "\n",
    "dir_struct = '{exp}/mon/atmos/{var}/{run}/'\n",
    "file_struct = '{var}_Amon_NorESM1-ME_{exp}_{run}_202001-210012.nc' \n",
    "\n",
    "out_dir = '/n/home03/pjirvine/projects/NorESM_comparison/summary_data/'\n",
    "outfile_struct_base = '{var}_{exp}_{run}'\n",
    "\n",
    "def process(exp, var, run):\n",
    "\n",
    "    spec_dict = {'exp': exp, 'var': var, 'run': run}\n",
    "\n",
    "    file_name = data_dir + dir_struct.format(**spec_dict) + file_struct.format(**spec_dict)\n",
    "\n",
    "    # date_file = cdo.seldate(date_range, input=file_name, output='test.nc')\n",
    "    years_start='2020,2021,2022,2023,2024,2025,2026,2027,2028,2029,2030,2031,2032,2033,2034,2035,2036,2037,2038,2039'\n",
    "    years_end='2080,2081,2082,2083,2084,2085,2086,2087,2088,2089,2090,2091,2092,2093,2094,2095,2096,2097,2098,2099'\n",
    "\n",
    "    def selyear_process(years, append):\n",
    "        years_file = cdo.selyear(years, input=file_name)#, ourput='test.nc')\n",
    "        cdo.timmean(input=years_file, output=out_dir + outfile_struct_base.format(**spec_dict)+append+'_mean.nc')\n",
    "        cdo.timstd(input=years_file, output=out_dir + outfile_struct_base.format(**spec_dict)+append+'_std.nc')\n",
    "\n",
    "    selyear_process(years_start, '_2020_2040')\n",
    "    selyear_process(years_end, '_2080_2100')\n",
    "\n",
    "for exp in exp_list:\n",
    "    for var in var_list:\n",
    "        for run in run_list:\n",
    "            process(exp,var,run)    "
   ]
  },
  {
   "cell_type": "markdown",
   "metadata": {},
   "source": [
    "# simple function to return linux output"
   ]
  },
  {
   "cell_type": "code",
   "execution_count": 5,
   "metadata": {
    "collapsed": true
   },
   "outputs": [],
   "source": [
    "def linux_out(command):\n",
    "    import os\n",
    "    # command = string as typed into linux terminal\n",
    "    stream = os.popen(command)\n",
    "    # return output\n",
    "    return stream.read()"
   ]
  },
  {
   "cell_type": "markdown",
   "metadata": {},
   "source": [
    "# Sbatch maker function"
   ]
  },
  {
   "cell_type": "code",
   "execution_count": 6,
   "metadata": {
    "collapsed": true
   },
   "outputs": [],
   "source": [
    "def sbatch_maker(script_command, sbatch_filename, more_commands='', JOB='Test', PART='general', NODES='1', CORES='1', MEM='100', TIME='0-00:10'):\n",
    "    \"\"\"\n",
    "This function makes an SBATCH script called \"sbatch_filename\" which runs the script given in script_command.\n",
    "The properties of the job will be set by the key words.\n",
    "REMEMBER - This sbatch job will inherit\n",
    "\"\"\"\n",
    "    \n",
    "    slurm_template = \"\"\"#!/bin/bash\n",
    "#\n",
    "#SBATCH -J {JOB}\n",
    "#SBATCH -p {PART}                # partition (queue)\n",
    "#SBATCH -N {NODES}                      # number of nodes\n",
    "#SBATCH -n {CORES}                      # number of cores\n",
    "#SBATCH --mem={MEM}                 # memory pool for all cores\n",
    "#SBATCH -t {TIME}                 # time (D-HH:MM)\n",
    "#SBATCH -o /n/home03/pjirvine/slurm/out/SLURM.%j.%N.out        # STDOUT\n",
    "#SBATCH -e /n/home03/pjirvine/slurm/err/SLURM.%j.%N.err        # STDERR\n",
    "#SBATCH --mail-type=ALL\n",
    "#                               Type of email notification- BEGIN,END,FAIL,ALL\n",
    "#SBATCH --mail-user=p.j.irvine@gmail.com\n",
    "#                               Email to which notifications will be sent\n",
    "\n",
    "{MORE_COMMANDS}\n",
    "{SCRIPT}\n",
    "\n",
    "############################## slurm ends ##############################\n",
    "\"\"\"\n",
    "\n",
    "    # Fill in the slurm template using kwargs\n",
    "    sbatch_text = slurm_template.format(SCRIPT=script_command, MORE_COMMANDS=more_commands, JOB=JOB, PART=PART, NODES=NODES, CORES=CORES, MEM=MEM, TIME=TIME)\n",
    "\n",
    "    # Write to file given by sbatch_filename\n",
    "    with open(sbatch_filename, \"w\") as text_file:\n",
    "        text_file.write(sbatch_text)\n",
    "    \n",
    "    # Return contents of sbatch file\n",
    "    return sbatch_text\n",
    "\n",
    "#def sbatch_maker ENDS"
   ]
  },
  {
   "cell_type": "markdown",
   "metadata": {},
   "source": [
    "# Example showing sbatch maker in use\n",
    "This will run the python script \"python_test.py\" that we will write below"
   ]
  },
  {
   "cell_type": "code",
   "execution_count": 17,
   "metadata": {
    "collapsed": true
   },
   "outputs": [],
   "source": [
    "sbatch_text = sbatch_maker('python python_test.py', 'py_test.sbatch', MEM='1', TIME='0-00:01')"
   ]
  },
  {
   "cell_type": "markdown",
   "metadata": {},
   "source": [
    "This writes out a simple python script. This python script just creates a file and writes to it."
   ]
  },
  {
   "cell_type": "code",
   "execution_count": 16,
   "metadata": {},
   "outputs": [
    {
     "name": "stdout",
     "output_type": "stream",
     "text": [
      "Writing python_test.py\n"
     ]
    }
   ],
   "source": [
    "%%writefile python_test.py\n",
    "with open('python_ran.txt', \"w\") as text_file:\n",
    "    text_file.write('it worked')"
   ]
  },
  {
   "cell_type": "markdown",
   "metadata": {},
   "source": [
    "This executes a shell command to run the sbatch script, submitting the job that will run the python script."
   ]
  },
  {
   "cell_type": "code",
   "execution_count": 18,
   "metadata": {},
   "outputs": [
    {
     "name": "stdout",
     "output_type": "stream",
     "text": [
      "Submitted batch job 17112004\n"
     ]
    }
   ],
   "source": [
    "! sbatch py_test.sbatch"
   ]
  },
  {
   "cell_type": "code",
   "execution_count": null,
   "metadata": {
    "collapsed": true
   },
   "outputs": [],
   "source": []
  }
 ],
 "metadata": {
  "kernelspec": {
   "display_name": "Python [conda env:python_27_geosciences]",
   "language": "python",
   "name": "conda-env-python_27_geosciences-py"
  },
  "language_info": {
   "codemirror_mode": {
    "name": "ipython",
    "version": 2
   },
   "file_extension": ".py",
   "mimetype": "text/x-python",
   "name": "python",
   "nbconvert_exporter": "python",
   "pygments_lexer": "ipython2",
   "version": "2.7.13"
  }
 },
 "nbformat": 4,
 "nbformat_minor": 2
}
